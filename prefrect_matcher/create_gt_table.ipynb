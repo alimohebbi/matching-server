{
 "cells": [
  {
   "cell_type": "code",
   "execution_count": 21,
   "metadata": {
    "collapsed": true
   },
   "outputs": [],
   "source": [
    "import pandas as pd\n",
    "from os import walk, listdir\n",
    "\n",
    "important_filed = ['text', 'content-desc', 'resource-id', 'activity']\n",
    "\n",
    "f = []\n",
    "\n",
    "\n",
    "def get_migration_name(filename):\n",
    "\n",
    "    migration_name = filename.replace('.json', '')\n",
    "    if migration_name[0] =='a':\n",
    "        return '', migration_name.split('-')[0], migration_name.split('-')[1]\n",
    "    else:\n",
    "        task_suffix = migration_name.split('-')[0][-1]\n",
    "        if 'Expense' in migration_name:\n",
    "            task = 'b6' + task_suffix\n",
    "        elif 'Note' in migration_name:\n",
    "            task = 'b7' + task_suffix\n",
    "        else:\n",
    "            task = 'b8' + task_suffix\n",
    "        return migration_name.split('-')[0], migration_name.split('-')[1], task\n",
    "\n",
    "def get_gt_from_dir(dir):\n",
    "\n",
    "    for filename in listdir(dir):\n",
    "        gt_df = pd.read_json(dir +'/'+ filename)\n",
    "        try:\n",
    "            gt_df = gt_df[important_filed]\n",
    "        except:\n",
    "            print()\n",
    "        src, target, task = get_migration_name(filename)\n",
    "        gt_df['src'] = src\n",
    "        gt_df['target'] = target\n",
    "        gt_df['task'] = task\n",
    "        f.append(gt_df)\n",
    "\n",
    "    return pd.concat(f)\n",
    "\n",
    "atm_gt = get_gt_from_dir('atm_gt')\n",
    "craft_gt = get_gt_from_dir('craft_gt')\n",
    "total_gt = pd.concat([atm_gt, craft_gt])\n",
    "col = ['src','target','task']\n",
    "col.extend(important_filed)\n",
    "total_gt = total_gt.reindex(columns= col)\n",
    "total_gt.to_csv('gt_table.csv', index = False)"
   ]
  }
 ],
 "metadata": {
  "kernelspec": {
   "display_name": "Python 3",
   "language": "python",
   "name": "python3"
  },
  "language_info": {
   "codemirror_mode": {
    "name": "ipython",
    "version": 2
   },
   "file_extension": ".py",
   "mimetype": "text/x-python",
   "name": "python",
   "nbconvert_exporter": "python",
   "pygments_lexer": "ipython2",
   "version": "2.7.6"
  }
 },
 "nbformat": 4,
 "nbformat_minor": 0
}