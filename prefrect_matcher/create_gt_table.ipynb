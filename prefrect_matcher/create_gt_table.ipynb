{
 "cells": [
  {
   "cell_type": "code",
   "execution_count": 1,
   "metadata": {
    "collapsed": true,
    "pycharm": {
     "name": "#%%\n"
    }
   },
   "outputs": [],
   "source": [
    "import pandas as pd\n",
    "\n",
    "from config import Config\n",
    "from descriptor_processes.load_data import clean_id\n",
    "from descriptor_processes.text_pre_process import pre_process\n",
    "\n",
    "important_filed = ['text', 'content-desc', 'resource-id', 'activity']\n",
    "config = Config()\n",
    "\n",
    "\n",
    "# %%\n",
    "\n",
    "def remove_oracles(events):\n",
    "    return events[events['event_type'] != 'oracle'].reset_index()\n",
    "\n",
    "\n",
    "def remove_unimportant_columns(events):\n",
    "    return events[['class', 'content-desc', 'text', 'activity', 'resource-id']]\n",
    "\n",
    "\n",
    "def add_type(events, type):\n",
    "    events.rename(columns={'content-desc': 'content_desc', 'resource-id': 'id'}, inplace=True)\n",
    "    for col in events.columns:\n",
    "        events.rename(columns={col: type + '_' + col}, inplace=True)\n",
    "    return events\n",
    "\n",
    "\n",
    "def clean_test(events, type):\n",
    "    # events = remove_oracles(events)\n",
    "    events = remove_unimportant_columns(events)\n",
    "    events = add_type(events, type)\n",
    "    return events\n",
    "\n",
    "\n",
    "def clean_df(df):\n",
    "    return df\n",
    "\n",
    "\n",
    "def get_mig_events(series, type, subjects):\n",
    "    app_name = series[type + '_app']\n",
    "    events = pd.read_json(subjects + '_gt/' + app_name + '.json').fillna('')\n",
    "    events = clean_test(events, type)\n",
    "    events[type + '_app'] = app_name.replace('-', '')\n",
    "    return events\n"
   ]
  },
  {
   "cell_type": "code",
   "execution_count": 2,
   "outputs": [
    {
     "name": "stderr",
     "output_type": "stream",
     "text": [
      "/Users/usiusi/Documents/Repositories/matching-server/venv/lib/python3.7/site-packages/pandas/core/frame.py:4133: SettingWithCopyWarning: \n",
      "A value is trying to be set on a copy of a slice from a DataFrame\n",
      "\n",
      "See the caveats in the documentation: https://pandas.pydata.org/pandas-docs/stable/user_guide/indexing.html#returning-a-view-versus-a-copy\n",
      "  errors=errors,\n"
     ]
    }
   ],
   "source": [
    "craft_map = pd.read_csv('craft_map.csv')\n",
    "s_list = []\n",
    "for i, series in craft_map.iterrows():\n",
    "    src_events = get_mig_events(series, 'src', 'craft')\n",
    "    target_events = get_mig_events(series, 'target', 'craft')\n",
    "    src_index = series['src_index']\n",
    "    target_index = series['target_index']\n",
    "    src_event = src_events.iloc[src_index]\n",
    "    target_event = target_events.iloc[target_index]\n",
    "    row = pd.concat([src_event, target_event], axis=0)\n",
    "    s_list.append(row)\n",
    "\n",
    "df = pd.concat(s_list, axis=1).T.reindex()\n",
    "df = clean_df(df)\n",
    "craft_events = df.reset_index(drop=True)"
   ],
   "metadata": {
    "collapsed": false,
    "pycharm": {
     "name": "#%%\n"
    }
   }
  },
  {
   "cell_type": "code",
   "execution_count": 3,
   "outputs": [],
   "source": [
    "def get_mig_events_atm(series, type):\n",
    "    mig_filename = series['src_app'] + '-' +series['target_app']\n",
    "    events = pd.read_json('atm_gt/' + mig_filename + '.json').fillna('')\n",
    "    events = clean_test(events, type)\n",
    "    events[type + '_app'] = series['target_app']\n",
    "    return events\n",
    "\n",
    "atm_map = pd.read_csv('atm_map.csv')\n",
    "\n",
    "s_list = []\n",
    "for i, series in atm_map.iterrows():\n",
    "    src_events = get_mig_events(series, 'src', 'atm')\n",
    "    target_events = get_mig_events_atm(series, 'target')\n",
    "    src_index = series['src_index']\n",
    "    target_index = series['target_index']\n",
    "\n",
    "    src_event = src_events.iloc[src_index]\n",
    "    try:\n",
    "        target_event = target_events.iloc[target_index]\n",
    "\n",
    "    except Exception as e:\n",
    "        print()\n",
    "    row = pd.concat([src_event, target_event], axis=0)\n",
    "    s_list.append(row)\n",
    "\n",
    "df = pd.concat(s_list, axis=1).T.reindex()\n",
    "df = clean_df(df)\n",
    "atm_events = df.reset_index(drop=True)\n",
    "total_gt = pd.concat([craft_events, atm_events])"
   ],
   "metadata": {
    "collapsed": false,
    "pycharm": {
     "name": "#%%\n"
    }
   }
  },
  {
   "cell_type": "code",
   "execution_count": 4,
   "outputs": [],
   "source": [
    "cleaning_columns = ['target_text', 'target_content_desc', 'target_id','src_text', 'src_content_desc', 'src_id']\n",
    "total_gt.loc[:, ['target_id', 'src_id']] = total_gt.loc[:, ['target_id', 'src_id']].applymap(lambda s: clean_id(s))\n",
    "total_gt = total_gt.astype(str)\n",
    "total_gt.loc[:, cleaning_columns] = pre_process(total_gt.loc[:, cleaning_columns], False)\n",
    "total_gt.to_csv(config.ground_truth, index=False)"
   ],
   "metadata": {
    "collapsed": false,
    "pycharm": {
     "name": "#%%\n"
    }
   }
  }
 ],
 "metadata": {
  "kernelspec": {
   "display_name": "Python 3",
   "language": "python",
   "name": "python3"
  },
  "language_info": {
   "codemirror_mode": {
    "name": "ipython",
    "version": 2
   },
   "file_extension": ".py",
   "mimetype": "text/x-python",
   "name": "python",
   "nbconvert_exporter": "python",
   "pygments_lexer": "ipython2",
   "version": "2.7.6"
  }
 },
 "nbformat": 4,
 "nbformat_minor": 0
}