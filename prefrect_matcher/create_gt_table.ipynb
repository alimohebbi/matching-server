{
 "cells": [
  {
   "cell_type": "code",
   "execution_count": 1,
   "metadata": {
    "collapsed": true
   },
   "outputs": [],
   "source": [
    "import pandas as pd\n",
    "from os import walk, listdir\n",
    "\n",
    "important_filed = ['text', 'content-desc', 'resource-id', 'activity']"
   ]
  },
  {
   "cell_type": "code",
   "execution_count": 2,
   "outputs": [],
   "source": [
    "def remove_oracles(events):\n",
    "    return events[events['event_type']!= 'oracle'].reset_index()\n",
    "\n",
    "\n",
    "def remove_unimportant_columns(events):\n",
    "    return events[['class', 'content-desc', 'text', 'activity', 'resource-id']]\n",
    "\n",
    "\n",
    "def add_type(events, type):\n",
    "    events.rename(columns={'content-desc':'content_desc', 'resource-id': 'id'}, inplace=True)\n",
    "    for col in events.columns:\n",
    "        events.rename(columns={col: type + '_' + col}, inplace=True)\n",
    "    return events\n",
    "\n",
    "\n",
    "def clean_test(events, type):\n",
    "    events = remove_oracles(events)\n",
    "    events = remove_unimportant_columns(events)\n",
    "    events = add_type(events, type)\n",
    "    return events\n",
    "\n",
    "def clean_df(df):\n",
    "    return df\n",
    "\n",
    "def get_mig_events(series, type):\n",
    "    app_name = series[type + '_app']\n",
    "    events = pd.read_json('atm_gt/' + app_name + '.json').fillna('')\n",
    "    events = clean_test(events, type)\n",
    "    events[type + '_app'] = app_name.replace('-','')\n",
    "    return events\n",
    "\n"
   ],
   "metadata": {
    "collapsed": false,
    "pycharm": {
     "name": "#%%\n"
    }
   }
  },
  {
   "cell_type": "code",
   "execution_count": 12,
   "outputs": [],
   "source": [
    "craft_map = pd.read_csv('craft_map.csv')\n",
    "s_list = []\n",
    "for i, series in craft_map.iterrows():\n",
    "    src_events = get_mig_events(series, 'src')\n",
    "    target_events = get_mig_events(series, 'target')\n",
    "    src_index= series['src_index']\n",
    "    target_index= series['target_index']\n",
    "    src_event = src_events.iloc[src_index]\n",
    "    target_event = target_events.iloc[target_index]\n",
    "    row = pd.concat([src_event, target_event], axis=0)\n",
    "    s_list.append(row)\n",
    "\n",
    "df = pd.concat(s_list, axis=1).T.reindex()\n",
    "df = clean_df(df)\n",
    "df.reset_index(drop=True)"
   ],
   "metadata": {
    "collapsed": false,
    "pycharm": {
     "name": "#%%\n"
    }
   }
  },
  {
   "cell_type": "code",
   "execution_count": 9,
   "outputs": [
    {
     "data": {
      "text/plain": "                          src_class src_content_desc  \\\n0        android.widget.ImageButton                    \n1        android.widget.ImageButton                    \n2           android.widget.EditText                    \n3        android.widget.ImageButton                    \n4        android.widget.ImageButton                    \n..                              ...              ...   \n112         android.widget.EditText                    \n113           android.widget.Button                    \n114           android.widget.Button                    \n115          android.widget.Spinner                    \n116  android.widget.CheckedTextView                    \n\n                       src_text               src_activity  \\\n0                                       .view.MainActivity   \n1                                       .view.MainActivity   \n2                                .view.ExpenseEditActivity   \n3                                       .view.MainActivity   \n4                                       .view.MainActivity   \n..                          ...                        ...   \n112  e.g. wishlist, family list          .ShoppingActivity   \n113                          OK          .ShoppingActivity   \n114                         ADD          .ShoppingActivity   \n115                                      .ShoppingActivity   \n116                       list1          .ShoppingActivity   \n\n                                                src_id          src_app  \\\n0    com.benoitletondor.easybudgetapp:id/fab_expand...  ExpenseTracker1   \n1    com.benoitletondor.easybudgetapp:id/fab_new_ex...  ExpenseTracker1   \n2    com.benoitletondor.easybudgetapp:id/descriptio...  ExpenseTracker1   \n3    com.benoitletondor.easybudgetapp:id/fab_expand...  ExpenseTracker1   \n4    com.benoitletondor.easybudgetapp:id/fab_new_ex...  ExpenseTracker1   \n..                                                 ...              ...   \n112               org.openintents.shopping:id/edittext    ShoppingList4   \n113                                 android:id/button1    ShoppingList4   \n114        org.openintents.shopping:id/button_add_item    ShoppingList4   \n115     org.openintents.shopping:id/spinner_listfilter    ShoppingList4   \n116                                   android:id/text1    ShoppingList4   \n\n                   target_class target_content_desc        target_text  \\\n0    android.widget.ImageButton                                          \n1       android.widget.EditText                      Add a description   \n2       android.widget.EditText                                   0.00   \n3    android.widget.ImageButton                                          \n4       android.widget.EditText                        Note (Optional)   \n..                          ...                 ...                ...   \n112     android.widget.EditText                                          \n113       android.widget.Button                                   OKAY   \n114  android.widget.ImageButton                                          \n115     android.widget.EditText                                          \n116       android.widget.Button                                   OKAY   \n\n                   target_activity  \\\n0                    .MainActivity   \n1                 .ExpenseActivity   \n2                 .ExpenseActivity   \n3                    .MainActivity   \n4                   .InputActivity   \n..                             ...   \n112          .ui.main.MainActivity   \n113          .ui.main.MainActivity   \n114  .ui.products.ProductsActivity   \n115  .ui.products.ProductsActivity   \n116  .ui.products.ProductsActivity   \n\n                                             target_id  \\\n0                    luankevinferreira.expenses:id/fab   \n1    luankevinferreira.expenses:id/expense_description   \n2          luankevinferreira.expenses:id/expense_value   \n3    com.kvannli .simonkvannli.dailybudget:id/image...   \n4    com.kvannli.simonkvannli.dailybudget:id/input_...   \n..                                                 ...   \n112  privacyfriendlyshoppinglist.secuso.org.privacy...   \n113                                 android:id/button1   \n114  privacyfriendlyshoppinglist.secuso.org.privacy...   \n115  privacyfriendlyshoppinglist.secuso.org.privacy...   \n116                                 android:id/button1   \n\n                         target_app  \n0    ExpenseTracker1ExpenseTracker2  \n1    ExpenseTracker1ExpenseTracker2  \n2    ExpenseTracker1ExpenseTracker2  \n3    ExpenseTracker1ExpenseTracker3  \n4    ExpenseTracker1ExpenseTracker3  \n..                              ...  \n112      ShoppingList4ShoppingList3  \n113      ShoppingList4ShoppingList3  \n114      ShoppingList4ShoppingList3  \n115      ShoppingList4ShoppingList3  \n116      ShoppingList4ShoppingList3  \n\n[117 rows x 12 columns]",
      "text/html": "<div>\n<style scoped>\n    .dataframe tbody tr th:only-of-type {\n        vertical-align: middle;\n    }\n\n    .dataframe tbody tr th {\n        vertical-align: top;\n    }\n\n    .dataframe thead th {\n        text-align: right;\n    }\n</style>\n<table border=\"1\" class=\"dataframe\">\n  <thead>\n    <tr style=\"text-align: right;\">\n      <th></th>\n      <th>src_class</th>\n      <th>src_content_desc</th>\n      <th>src_text</th>\n      <th>src_activity</th>\n      <th>src_id</th>\n      <th>src_app</th>\n      <th>target_class</th>\n      <th>target_content_desc</th>\n      <th>target_text</th>\n      <th>target_activity</th>\n      <th>target_id</th>\n      <th>target_app</th>\n    </tr>\n  </thead>\n  <tbody>\n    <tr>\n      <th>0</th>\n      <td>android.widget.ImageButton</td>\n      <td></td>\n      <td></td>\n      <td>.view.MainActivity</td>\n      <td>com.benoitletondor.easybudgetapp:id/fab_expand...</td>\n      <td>ExpenseTracker1</td>\n      <td>android.widget.ImageButton</td>\n      <td></td>\n      <td></td>\n      <td>.MainActivity</td>\n      <td>luankevinferreira.expenses:id/fab</td>\n      <td>ExpenseTracker1ExpenseTracker2</td>\n    </tr>\n    <tr>\n      <th>1</th>\n      <td>android.widget.ImageButton</td>\n      <td></td>\n      <td></td>\n      <td>.view.MainActivity</td>\n      <td>com.benoitletondor.easybudgetapp:id/fab_new_ex...</td>\n      <td>ExpenseTracker1</td>\n      <td>android.widget.EditText</td>\n      <td></td>\n      <td>Add a description</td>\n      <td>.ExpenseActivity</td>\n      <td>luankevinferreira.expenses:id/expense_description</td>\n      <td>ExpenseTracker1ExpenseTracker2</td>\n    </tr>\n    <tr>\n      <th>2</th>\n      <td>android.widget.EditText</td>\n      <td></td>\n      <td></td>\n      <td>.view.ExpenseEditActivity</td>\n      <td>com.benoitletondor.easybudgetapp:id/descriptio...</td>\n      <td>ExpenseTracker1</td>\n      <td>android.widget.EditText</td>\n      <td></td>\n      <td>0.00</td>\n      <td>.ExpenseActivity</td>\n      <td>luankevinferreira.expenses:id/expense_value</td>\n      <td>ExpenseTracker1ExpenseTracker2</td>\n    </tr>\n    <tr>\n      <th>3</th>\n      <td>android.widget.ImageButton</td>\n      <td></td>\n      <td></td>\n      <td>.view.MainActivity</td>\n      <td>com.benoitletondor.easybudgetapp:id/fab_expand...</td>\n      <td>ExpenseTracker1</td>\n      <td>android.widget.ImageButton</td>\n      <td></td>\n      <td></td>\n      <td>.MainActivity</td>\n      <td>com.kvannli .simonkvannli.dailybudget:id/image...</td>\n      <td>ExpenseTracker1ExpenseTracker3</td>\n    </tr>\n    <tr>\n      <th>4</th>\n      <td>android.widget.ImageButton</td>\n      <td></td>\n      <td></td>\n      <td>.view.MainActivity</td>\n      <td>com.benoitletondor.easybudgetapp:id/fab_new_ex...</td>\n      <td>ExpenseTracker1</td>\n      <td>android.widget.EditText</td>\n      <td></td>\n      <td>Note (Optional)</td>\n      <td>.InputActivity</td>\n      <td>com.kvannli.simonkvannli.dailybudget:id/input_...</td>\n      <td>ExpenseTracker1ExpenseTracker3</td>\n    </tr>\n    <tr>\n      <th>...</th>\n      <td>...</td>\n      <td>...</td>\n      <td>...</td>\n      <td>...</td>\n      <td>...</td>\n      <td>...</td>\n      <td>...</td>\n      <td>...</td>\n      <td>...</td>\n      <td>...</td>\n      <td>...</td>\n      <td>...</td>\n    </tr>\n    <tr>\n      <th>112</th>\n      <td>android.widget.EditText</td>\n      <td></td>\n      <td>e.g. wishlist, family list</td>\n      <td>.ShoppingActivity</td>\n      <td>org.openintents.shopping:id/edittext</td>\n      <td>ShoppingList4</td>\n      <td>android.widget.EditText</td>\n      <td></td>\n      <td></td>\n      <td>.ui.main.MainActivity</td>\n      <td>privacyfriendlyshoppinglist.secuso.org.privacy...</td>\n      <td>ShoppingList4ShoppingList3</td>\n    </tr>\n    <tr>\n      <th>113</th>\n      <td>android.widget.Button</td>\n      <td></td>\n      <td>OK</td>\n      <td>.ShoppingActivity</td>\n      <td>android:id/button1</td>\n      <td>ShoppingList4</td>\n      <td>android.widget.Button</td>\n      <td></td>\n      <td>OKAY</td>\n      <td>.ui.main.MainActivity</td>\n      <td>android:id/button1</td>\n      <td>ShoppingList4ShoppingList3</td>\n    </tr>\n    <tr>\n      <th>114</th>\n      <td>android.widget.Button</td>\n      <td></td>\n      <td>ADD</td>\n      <td>.ShoppingActivity</td>\n      <td>org.openintents.shopping:id/button_add_item</td>\n      <td>ShoppingList4</td>\n      <td>android.widget.ImageButton</td>\n      <td></td>\n      <td></td>\n      <td>.ui.products.ProductsActivity</td>\n      <td>privacyfriendlyshoppinglist.secuso.org.privacy...</td>\n      <td>ShoppingList4ShoppingList3</td>\n    </tr>\n    <tr>\n      <th>115</th>\n      <td>android.widget.Spinner</td>\n      <td></td>\n      <td></td>\n      <td>.ShoppingActivity</td>\n      <td>org.openintents.shopping:id/spinner_listfilter</td>\n      <td>ShoppingList4</td>\n      <td>android.widget.EditText</td>\n      <td></td>\n      <td></td>\n      <td>.ui.products.ProductsActivity</td>\n      <td>privacyfriendlyshoppinglist.secuso.org.privacy...</td>\n      <td>ShoppingList4ShoppingList3</td>\n    </tr>\n    <tr>\n      <th>116</th>\n      <td>android.widget.CheckedTextView</td>\n      <td></td>\n      <td>list1</td>\n      <td>.ShoppingActivity</td>\n      <td>android:id/text1</td>\n      <td>ShoppingList4</td>\n      <td>android.widget.Button</td>\n      <td></td>\n      <td>OKAY</td>\n      <td>.ui.products.ProductsActivity</td>\n      <td>android:id/button1</td>\n      <td>ShoppingList4ShoppingList3</td>\n    </tr>\n  </tbody>\n</table>\n<p>117 rows × 12 columns</p>\n</div>"
     },
     "execution_count": 9,
     "metadata": {},
     "output_type": "execute_result"
    }
   ],
   "source": [
    "def get_mig_events_atm(series, type):\n",
    "    app_name = series['src_app'] + '-' +series['target_app']\n",
    "    events = pd.read_json('atm_gt/' + app_name + '.json').fillna('')\n",
    "    events = clean_test(events, type)\n",
    "    events[type + '_app'] = app_name.replace('-','')\n",
    "    return events\n",
    "\n",
    "atm_map = pd.read_csv('atm_map.csv')\n",
    "\n",
    "s_list = []\n",
    "for i, series in atm_map.iterrows():\n",
    "    src_events = get_mig_events(series, 'src')\n",
    "    target_events = get_mig_events_atm(series, 'target')\n",
    "    src_index= series['src_index']\n",
    "    target_index= series['target_index']\n",
    "    try:\n",
    "        src_event = src_events.iloc[src_index]\n",
    "    except:\n",
    "        print('')\n",
    "    target_event = target_events.iloc[target_index]\n",
    "    row = pd.concat([src_event, target_event], axis=0)\n",
    "    s_list.append(row)\n",
    "\n",
    "df = pd.concat(s_list, axis=1).T.reindex()\n",
    "df = clean_df(df)\n",
    "df.reset_index(drop=True)\n"
   ],
   "metadata": {
    "collapsed": false,
    "pycharm": {
     "name": "#%%\n"
    }
   }
  }
 ],
 "metadata": {
  "kernelspec": {
   "display_name": "Python 3",
   "language": "python",
   "name": "python3"
  },
  "language_info": {
   "codemirror_mode": {
    "name": "ipython",
    "version": 2
   },
   "file_extension": ".py",
   "mimetype": "text/x-python",
   "name": "python",
   "nbconvert_exporter": "python",
   "pygments_lexer": "ipython2",
   "version": "2.7.6"
  }
 },
 "nbformat": 4,
 "nbformat_minor": 0
}