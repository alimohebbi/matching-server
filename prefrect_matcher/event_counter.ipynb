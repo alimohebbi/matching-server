{
 "cells": [
  {
   "cell_type": "code",
   "execution_count": 4,
   "metadata": {
    "collapsed": true
   },
   "outputs": [],
   "source": [
    "from os import listdir\n",
    "\n",
    "import pandas as pd"
   ]
  },
  {
   "cell_type": "code",
   "execution_count": 5,
   "outputs": [],
   "source": [
    "atm_tests = [f for f in listdir('atm_gt') if 'json' in f and '-' not in f]\n",
    "craft_tests = [f for f in listdir('craft_gt') if 'json' in f]\n",
    "\n",
    "test_len = []\n",
    "for f in atm_tests:\n",
    "    f_len = pd.read_json('atm_gt/'+f).shape[0]\n",
    "    test_len.append(f_len)\n",
    "\n",
    "for f in craft_tests:\n",
    "    f_len = pd.read_json('craft_gt/'+f).shape[0]\n",
    "    test_len.append(f_len)\n",
    "\n",
    "all_test_name = []\n",
    "all_test_name.extend(atm_tests)\n",
    "all_test_name.extend(craft_tests)\n",
    "\n",
    "src_len_df = pd.DataFrame({'name': all_test_name, 't_len': test_len})\n",
    "src_len_df.to_csv('src_test_len.csv')\n",
    "src_len_df.describe().to_csv('src_test_len_stat.csv')"
   ],
   "metadata": {
    "collapsed": false,
    "pycharm": {
     "name": "#%%\n"
    }
   }
  },
  {
   "cell_type": "code",
   "execution_count": 6,
   "outputs": [],
   "source": [
    "atm_tests = [f for f in listdir('atm_gt') if 'json' in f and '-'  in f]\n",
    "craft_tests = [f for f in listdir('craft_gt') if 'json' in f]\n",
    "\n",
    "test_len = []\n",
    "for f in atm_tests:\n",
    "    f_len = pd.read_json('atm_gt/'+f).shape[0]\n",
    "    test_len.append(f_len)\n",
    "\n",
    "for f in craft_tests:\n",
    "    f_len = pd.read_json('craft_gt/'+f).shape[0]\n",
    "    test_len.append(f_len)\n",
    "\n",
    "all_test_name = []\n",
    "all_test_name.extend(atm_tests)\n",
    "all_test_name.extend(craft_tests)\n",
    "\n",
    "target_len_df = pd.DataFrame({'name': all_test_name, 't_len': test_len})\n",
    "target_len_df.to_csv('target_test_len.csv')\n",
    "target_len_df.describe().to_csv('target_test_len_stat.csv')"
   ],
   "metadata": {
    "collapsed": false,
    "pycharm": {
     "name": "#%%\n"
    }
   }
  }
 ],
 "metadata": {
  "kernelspec": {
   "display_name": "Python 3",
   "language": "python",
   "name": "python3"
  },
  "language_info": {
   "codemirror_mode": {
    "name": "ipython",
    "version": 2
   },
   "file_extension": ".py",
   "mimetype": "text/x-python",
   "name": "python",
   "nbconvert_exporter": "python",
   "pygments_lexer": "ipython2",
   "version": "2.7.6"
  }
 },
 "nbformat": 4,
 "nbformat_minor": 0
}