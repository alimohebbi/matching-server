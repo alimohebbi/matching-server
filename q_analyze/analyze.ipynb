{
 "cells": [
  {
   "cell_type": "code",
   "execution_count": 6,
   "metadata": {
    "collapsed": true
   },
   "outputs": [],
   "source": [
    "import pandas as pd\n",
    "import os\n",
    "log_path = '/Users/usiusi/Documents/Report/Test-Reuse/Reports/report22/qlogs'\n",
    "logs = []"
   ]
  },
  {
   "cell_type": "code",
   "execution_count": 29,
   "outputs": [],
   "source": [
    "def read_log(log_path):\n",
    "    for path, subdirs, files in os.walk(log_path):\n",
    "        for name in files:\n",
    "            if 'csv' in name and not 'raw' in name:\n",
    "                log = pd.read_csv(os.path.join(path, name))\n",
    "                logs.append(log)\n",
    "\n",
    "    return pd.concat(logs).fillna('')\n",
    "\n",
    "\n",
    "def select_config(df):\n",
    "    criteria = (df['word_embedding'] == 'jaccard') & (df['algorithm'] == 'custom') & (df['training_set'] == 'empty') & \\\n",
    "               (df['descriptors'] == 'intersection') & (df['src_class'] != 'Button')\n",
    "    return df[criteria]\n",
    "\n",
    "\n",
    "def remove_duplicated_q(df: pd.DataFrame):\n",
    "    df.sort_values(by=['index'], inplace=True, ascending=True)\n",
    "    columns = ['src', 'target','task', 'src_id', 'src_text', 'src_content_desc', 'target_id', 'target_text',\n",
    "               'target_content_desc']\n",
    "    return df.drop_duplicates(subset=columns, keep='first')\n",
    "\n",
    "\n",
    "def select_top_scored(df: pd.DataFrame):\n",
    "    df = df[df['score']>0]\n",
    "    return df.groupby('index').agg('max')"
   ],
   "metadata": {
    "collapsed": false,
    "pycharm": {
     "name": "#%%\n"
    }
   }
  },
  {
   "cell_type": "code",
   "execution_count": 5,
   "outputs": [],
   "source": [
    "total = read_log(log_path)\n",
    "selected_q = select_config(total)\n",
    "selected_q = remove_duplicated_q(selected_q)"
   ],
   "metadata": {
    "collapsed": false,
    "pycharm": {
     "name": "#%%\n"
    }
   }
  },
  {
   "cell_type": "code",
   "execution_count": 30,
   "outputs": [],
   "source": [
    "top_scored_q = select_top_scored(selected_q)"
   ],
   "metadata": {
    "collapsed": false,
    "pycharm": {
     "name": "#%%\n"
    }
   }
  }
 ],
 "metadata": {
  "kernelspec": {
   "display_name": "Python 3",
   "language": "python",
   "name": "python3"
  },
  "language_info": {
   "codemirror_mode": {
    "name": "ipython",
    "version": 2
   },
   "file_extension": ".py",
   "mimetype": "text/x-python",
   "name": "python",
   "nbconvert_exporter": "python",
   "pygments_lexer": "ipython2",
   "version": "2.7.6"
  }
 },
 "nbformat": 4,
 "nbformat_minor": 0
}